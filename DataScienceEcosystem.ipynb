{
 "cells": [
  {
   "cell_type": "markdown",
   "id": "1411eb91-b337-489e-9b0f-1eb09428d1f0",
   "metadata": {
    "tags": []
   },
   "source": [
    "# Data Science Tools and Ecosystem"
   ]
  },
  {
   "cell_type": "markdown",
   "id": "bffd0bb8-9379-483a-82ec-234ec7a46cd9",
   "metadata": {
    "tags": []
   },
   "source": [
    "In this notebook, Data Science Tools and Ecosystem are summarized."
   ]
  },
  {
   "cell_type": "markdown",
   "id": "8d5250b7-45f1-4e0d-85f2-84ea281d7a9d",
   "metadata": {
    "tags": []
   },
   "source": [
    "__Objectives:__ \n",
    "- List popular languages for Data Science\n",
    "- Open source DS tools\n",
    "- DS libraries\n",
    "- Arithmetic expressions in Python\n"
   ]
  },
  {
   "cell_type": "markdown",
   "id": "d29f8e4e-b624-47a5-a0f1-c7787350c6c3",
   "metadata": {
    "tags": []
   },
   "source": [
    "Some of the popular languages that Data Scientists use are:\n",
    "1. Python\n",
    "2. R\n",
    "3. Julia\n",
    "4. SQL\n"
   ]
  },
  {
   "cell_type": "markdown",
   "id": "48a36866-0831-4968-9d5c-ebebc1e4b509",
   "metadata": {
    "tags": []
   },
   "source": [
    "Some of the commonly used libraries used by Data Scientists include:\n",
    "1. NumPy\n",
    "2. Pandas\n",
    "3. Scikit-learn"
   ]
  },
  {
   "cell_type": "markdown",
   "id": "3f2eeeb7-b7c8-4472-a735-2493ae7b60f0",
   "metadata": {},
   "source": [
    "| Data Science Tools | \n",
    "|:--------:|\n",
    "|  Jupyter Notebook   |\n",
    "|  Git   |\n",
    "|  Apache Hadoop   | "
   ]
  },
  {
   "cell_type": "markdown",
   "id": "d36a5801-f64a-4123-a81a-c42f0375b24f",
   "metadata": {
    "tags": []
   },
   "source": [
    "### Below are a few examples of evaluating arithmetic expressions in Python"
   ]
  },
  {
   "cell_type": "code",
   "execution_count": 10,
   "id": "b9d90678-8a6d-498a-84d1-53ad803fc373",
   "metadata": {
    "tags": []
   },
   "outputs": [
    {
     "data": {
      "text/plain": [
       "17"
      ]
     },
     "execution_count": 10,
     "metadata": {},
     "output_type": "execute_result"
    }
   ],
   "source": [
    "# This a simple arithmetic expression to mutiply then add integers\n",
    "\n",
    "(3*4)+5"
   ]
  },
  {
   "cell_type": "code",
   "execution_count": 11,
   "id": "074b496a-bb5f-4c9c-ad45-0c6e3cccc8ea",
   "metadata": {
    "tags": []
   },
   "outputs": [
    {
     "data": {
      "text/plain": [
       "3.3333333333333335"
      ]
     },
     "execution_count": 11,
     "metadata": {},
     "output_type": "execute_result"
    }
   ],
   "source": [
    "# This will convert 200 minutes to hours by diving by 60\n",
    "\n",
    "200/60"
   ]
  },
  {
   "cell_type": "markdown",
   "id": "4b74b93b-6231-4934-9218-b1c1d58f4159",
   "metadata": {},
   "source": [
    "## Author\n",
    "Dmitrii Z."
   ]
  }
 ],
 "metadata": {
  "kernelspec": {
   "display_name": "Python 3 (ipykernel)",
   "language": "python",
   "name": "python3"
  },
  "language_info": {
   "codemirror_mode": {
    "name": "ipython",
    "version": 3
   },
   "file_extension": ".py",
   "mimetype": "text/x-python",
   "name": "python",
   "nbconvert_exporter": "python",
   "pygments_lexer": "ipython3",
   "version": "3.11.4"
  },
  "toc-autonumbering": false,
  "toc-showmarkdowntxt": true
 },
 "nbformat": 4,
 "nbformat_minor": 5
}
